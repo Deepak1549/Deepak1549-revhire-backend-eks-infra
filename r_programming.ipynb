{
  "nbformat": 4,
  "nbformat_minor": 0,
  "metadata": {
    "colab": {
      "provenance": [],
      "authorship_tag": "ABX9TyNFijUOPhgP4xAhRwgkCvsS",
      "include_colab_link": true
    },
    "kernelspec": {
      "name": "python3",
      "display_name": "Python 3"
    },
    "language_info": {
      "name": "python"
    }
  },
  "cells": [
    {
      "cell_type": "markdown",
      "metadata": {
        "id": "view-in-github",
        "colab_type": "text"
      },
      "source": [
        "<a href=\"https://colab.research.google.com/github/Deepak1549/Deepak1549-revhire-backend-eks-infra/blob/main/r_programming.ipynb\" target=\"_parent\"><img src=\"https://colab.research.google.com/assets/colab-badge.svg\" alt=\"Open In Colab\"/></a>"
      ]
    },
    {
      "cell_type": "code",
      "execution_count": 1,
      "metadata": {
        "colab": {
          "base_uri": "https://localhost:8080/"
        },
        "id": "hioXX5S5gqpW",
        "outputId": "829b8bb3-8898-46af-a1d7-027bf5148e38"
      },
      "outputs": [
        {
          "output_type": "stream",
          "name": "stdout",
          "text": [
            "Hello,World!\n"
          ]
        }
      ],
      "source": [
        "print(\"Hello,World!\")"
      ]
    },
    {
      "cell_type": "code",
      "source": [
        "x <- 10\n",
        "y <- 5\n",
        "sum <- x+y\n",
        "product <- x*y\n",
        "cat(\"sum:\",sum,\"\\nProduct:\",product)"
      ],
      "metadata": {
        "colab": {
          "base_uri": "https://localhost:8080/",
          "height": 211
        },
        "id": "Pobl2-oRhb6X",
        "outputId": "c4b1fe07-054d-4e2b-9c04-afac10ede3c9"
      },
      "execution_count": 2,
      "outputs": [
        {
          "output_type": "error",
          "ename": "NameError",
          "evalue": "name 'x' is not defined",
          "traceback": [
            "\u001b[0;31m---------------------------------------------------------------------------\u001b[0m",
            "\u001b[0;31mNameError\u001b[0m                                 Traceback (most recent call last)",
            "\u001b[0;32m<ipython-input-2-907d0233ea09>\u001b[0m in \u001b[0;36m<cell line: 1>\u001b[0;34m()\u001b[0m\n\u001b[0;32m----> 1\u001b[0;31m \u001b[0mx\u001b[0m \u001b[0;34m<\u001b[0m\u001b[0;34m-\u001b[0m \u001b[0;36m10\u001b[0m\u001b[0;34m\u001b[0m\u001b[0;34m\u001b[0m\u001b[0m\n\u001b[0m\u001b[1;32m      2\u001b[0m \u001b[0my\u001b[0m \u001b[0;34m<\u001b[0m\u001b[0;34m-\u001b[0m \u001b[0;36m5\u001b[0m\u001b[0;34m\u001b[0m\u001b[0;34m\u001b[0m\u001b[0m\n\u001b[1;32m      3\u001b[0m \u001b[0msum\u001b[0m \u001b[0;34m<\u001b[0m\u001b[0;34m-\u001b[0m \u001b[0mx\u001b[0m\u001b[0;34m+\u001b[0m\u001b[0my\u001b[0m\u001b[0;34m\u001b[0m\u001b[0;34m\u001b[0m\u001b[0m\n\u001b[1;32m      4\u001b[0m \u001b[0mproduct\u001b[0m \u001b[0;34m<\u001b[0m\u001b[0;34m-\u001b[0m \u001b[0mx\u001b[0m\u001b[0;34m*\u001b[0m\u001b[0my\u001b[0m\u001b[0;34m\u001b[0m\u001b[0;34m\u001b[0m\u001b[0m\n\u001b[1;32m      5\u001b[0m \u001b[0mcat\u001b[0m\u001b[0;34m(\u001b[0m\u001b[0;34m\"sum:\"\u001b[0m\u001b[0;34m,\u001b[0m\u001b[0msum\u001b[0m\u001b[0;34m,\u001b[0m\u001b[0;34m\"\\nProduct:\"\u001b[0m\u001b[0;34m,\u001b[0m\u001b[0mproduct\u001b[0m\u001b[0;34m)\u001b[0m\u001b[0;34m\u001b[0m\u001b[0;34m\u001b[0m\u001b[0m\n",
            "\u001b[0;31mNameError\u001b[0m: name 'x' is not defined"
          ]
        }
      ]
    },
    {
      "cell_type": "code",
      "source": [
        "!pip install rpy2"
      ],
      "metadata": {
        "colab": {
          "base_uri": "https://localhost:8080/"
        },
        "id": "90jK6BRhj6wM",
        "outputId": "086e5e00-974d-4303-8da9-da904de258d2"
      },
      "execution_count": 3,
      "outputs": [
        {
          "output_type": "stream",
          "name": "stdout",
          "text": [
            "Requirement already satisfied: rpy2 in /usr/local/lib/python3.10/dist-packages (3.4.2)\n",
            "Requirement already satisfied: cffi>=1.10.0 in /usr/local/lib/python3.10/dist-packages (from rpy2) (1.17.1)\n",
            "Requirement already satisfied: jinja2 in /usr/local/lib/python3.10/dist-packages (from rpy2) (3.1.4)\n",
            "Requirement already satisfied: pytz in /usr/local/lib/python3.10/dist-packages (from rpy2) (2024.2)\n",
            "Requirement already satisfied: tzlocal in /usr/local/lib/python3.10/dist-packages (from rpy2) (5.2)\n",
            "Requirement already satisfied: pycparser in /usr/local/lib/python3.10/dist-packages (from cffi>=1.10.0->rpy2) (2.22)\n",
            "Requirement already satisfied: MarkupSafe>=2.0 in /usr/local/lib/python3.10/dist-packages (from jinja2->rpy2) (3.0.2)\n"
          ]
        }
      ]
    },
    {
      "cell_type": "code",
      "source": [
        "%load_ext rpy2.ipython"
      ],
      "metadata": {
        "id": "YmPpQeXhkDSo"
      },
      "execution_count": 4,
      "outputs": []
    },
    {
      "cell_type": "code",
      "source": [
        "%%R\n",
        "x <- 10\n",
        "y <- 5\n",
        "sum <- x + y\n",
        "product <- x * y\n",
        "cat(\"sum:\", sum, \"\\nProduct:\", product)"
      ],
      "metadata": {
        "colab": {
          "base_uri": "https://localhost:8080/"
        },
        "id": "GN1xJ6E_kH2j",
        "outputId": "3c574e31-c60b-4eda-9c4e-594dd9686ddc"
      },
      "execution_count": 6,
      "outputs": [
        {
          "output_type": "stream",
          "name": "stdout",
          "text": [
            "sum: 15 \n",
            "Product: 50"
          ]
        }
      ]
    },
    {
      "cell_type": "code",
      "source": [
        "%%R\n",
        "sequence <- seq(1,10,by=2)\n",
        "print(sequence)"
      ],
      "metadata": {
        "colab": {
          "base_uri": "https://localhost:8080/"
        },
        "id": "AFQc4UAFlVu4",
        "outputId": "72e8a38d-fd4e-45c0-835c-97fc75f02e45"
      },
      "execution_count": 8,
      "outputs": [
        {
          "output_type": "stream",
          "name": "stdout",
          "text": [
            "[1] 1 3 5 7 9\n"
          ]
        }
      ]
    },
    {
      "cell_type": "code",
      "source": [
        "%%R\n",
        "numbers <- c(10,20,30,40,50)\n",
        "mean_value <- mean(numbers)\n",
        "median_value <- median(numbers)\n",
        "cat(\"Mean:\",mean_value,\"\\nMedian:\",median_value)"
      ],
      "metadata": {
        "colab": {
          "base_uri": "https://localhost:8080/"
        },
        "id": "toK5CfygmbQy",
        "outputId": "c03f3f42-7aa7-4d0e-92dd-a387bb6e516b"
      },
      "execution_count": 10,
      "outputs": [
        {
          "output_type": "stream",
          "name": "stdout",
          "text": [
            "Mean: 30 \n",
            "Median: 30"
          ]
        }
      ]
    },
    {
      "cell_type": "code",
      "source": [
        "%%R\n",
        "\n",
        "x<-7\n",
        "if(x%%2==0)\n",
        "{\n",
        "    print(\"x is even\")\n",
        "}\n",
        "else\n",
        "{\n",
        "    print(\"x is odd\")\n",
        "}"
      ],
      "metadata": {
        "colab": {
          "base_uri": "https://localhost:8080/"
        },
        "id": "Mz80Vb7rnkEB",
        "outputId": "a18de687-2fad-4990-b171-5651ba40bfb0"
      },
      "execution_count": 11,
      "outputs": [
        {
          "output_type": "stream",
          "name": "stdout",
          "text": [
            "[1] \"x is odd\"\n"
          ]
        }
      ]
    },
    {
      "cell_type": "code",
      "source": [
        "%%R\n",
        "\n",
        "#creating a simple plot\n",
        "\n",
        "x<- c(1,2,3,4,5)\n",
        "y<- c(2,4,6,8,10)\n",
        "plot(x,y,type=\"b\",col=\"blue\",main=\"simple Plot\",xlab=\"x-axis\",ylab=\"Y-axis\")\n"
      ],
      "metadata": {
        "colab": {
          "base_uri": "https://localhost:8080/",
          "height": 497
        },
        "id": "eAZXmlLEn31C",
        "outputId": "cb5c4042-6f2a-4c27-ad75-6b310deced88"
      },
      "execution_count": 12,
      "outputs": [
        {
          "output_type": "display_data",
          "data": {
            "image/png": "[encoded data removed]"
          },
          "metadata": {}
        }
      ]
    },
    {
      "cell_type": "code",
      "source": [
        "%%R\n",
        "\n",
        "#Factorial of a Number\n",
        "\n",
        "factorial <- function(n)\n",
        "{\n",
        "    if(n==0) return(1)\n",
        "    return (n*factorial(n-1))\n",
        "\n",
        "}\n",
        "result <- factorial(5)\n",
        "cat(\"Factorial of 5 is:\", result)"
      ],
      "metadata": {
        "colab": {
          "base_uri": "https://localhost:8080/"
        },
        "id": "vHo6DPDXoeNP",
        "outputId": "20ceb223-8072-474e-fda2-b1b1ce450619"
      },
      "execution_count": 15,
      "outputs": [
        {
          "output_type": "stream",
          "name": "stdout",
          "text": [
            "Factorial of 5 is: 120"
          ]
        }
      ]
    },
    {
      "cell_type": "code",
      "source": [
        "%%R\n",
        "\n",
        "# Find the Maximu in a vector\n",
        "\n",
        "number <- c(23,56,89,12,45)\n",
        "max_value <- max(numbers)\n",
        "cat(\"Maximum value is:\",max_value)"
      ],
      "metadata": {
        "colab": {
          "base_uri": "https://localhost:8080/"
        },
        "id": "Ryfi_b2wpAWZ",
        "outputId": "8d31f79a-4270-4f84-ad06-a0899319a2d6"
      },
      "execution_count": 16,
      "outputs": [
        {
          "output_type": "stream",
          "name": "stdout",
          "text": [
            "Maximum value is: 50"
          ]
        }
      ]
    },
    {
      "cell_type": "code",
      "source": [
        "%%R\n",
        "\n",
        "#Working with Dat Frames\n",
        "\n",
        "df <- data.frame(\n",
        "    Name = c(\"Alice\",\"Bob\",\"Charlie\"),\n",
        "    Age = c(25,30,35),\n",
        "    Score = c(85,90,95)\n",
        ")\n",
        "\n",
        "print(df)\n"
      ],
      "metadata": {
        "colab": {
          "base_uri": "https://localhost:8080/"
        },
        "id": "FDL7G2RPpRtA",
        "outputId": "55318ee2-010d-4a01-a09c-5f761a3db614"
      },
      "execution_count": 18,
      "outputs": [
        {
          "output_type": "stream",
          "name": "stdout",
          "text": [
            "     Name Age Score\n",
            "1   Alice  25    85\n",
            "2     Bob  30    90\n",
            "3 Charlie  35    95\n"
          ]
        }
      ]
    },
    {
      "cell_type": "code",
      "source": [
        "%%R\n",
        "#Loops program\n",
        "\n",
        "for(i in 1:15){\n",
        "    cat(\"Square of\",i,\"is\",i^2,\"\\n\")\n",
        "}"
      ],
      "metadata": {
        "colab": {
          "base_uri": "https://localhost:8080/"
        },
        "id": "o2tTI6QEpukB",
        "outputId": "972ec105-2f30-4e34-f54b-4a02fdaebc83"
      },
      "execution_count": 19,
      "outputs": [
        {
          "output_type": "stream",
          "name": "stdout",
          "text": [
            "Square of 1 is 1 \n",
            "Square of 2 is 4 \n",
            "Square of 3 is 9 \n",
            "Square of 4 is 16 \n",
            "Square of 5 is 25 \n",
            "Square of 6 is 36 \n",
            "Square of 7 is 49 \n",
            "Square of 8 is 64 \n",
            "Square of 9 is 81 \n",
            "Square of 10 is 100 \n",
            "Square of 11 is 121 \n",
            "Square of 12 is 144 \n",
            "Square of 13 is 169 \n",
            "Square of 14 is 196 \n",
            "Square of 15 is 225 \n"
          ]
        }
      ]
    },
    {
      "cell_type": "code",
      "source": [],
      "metadata": {
        "id": "aIXYu_RBqAIw"
      },
      "execution_count": null,
      "outputs": []
    }
  ]
}